{
 "cells": [
  {
   "cell_type": "code",
   "execution_count": 1,
   "id": "0eb7c846-768c-484e-9f27-0b36af0fd19c",
   "metadata": {},
   "outputs": [],
   "source": [
    "import pandas as pd\n",
    "import numpy as np\n",
    "import matplotlib.pyplot as plt"
   ]
  },
  {
   "cell_type": "code",
   "execution_count": 3,
   "id": "2c374be0-3675-4281-bc9f-7ea5db9d01dd",
   "metadata": {},
   "outputs": [
    {
     "ename": "NameError",
     "evalue": "name 'pd' is not defined",
     "output_type": "error",
     "traceback": [
      "\u001b[0;31m---------------------------------------------------------------------------\u001b[0m",
      "\u001b[0;31mNameError\u001b[0m                                 Traceback (most recent call last)",
      "\u001b[0;32m/var/folders/24/ffrwmgdx0p71d3f671p8hl_00000gn/T/ipykernel_73746/4039346859.py\u001b[0m in \u001b[0;36m<module>\u001b[0;34m\u001b[0m\n\u001b[1;32m      2\u001b[0m \u001b[0mvictim\u001b[0m \u001b[0;34m=\u001b[0m \u001b[0;34m\"../../../../../../../Desktop/NU-VIRT-DATA-PT-04-2022-U-LOL/Violence Project Victim Data.csv\"\u001b[0m\u001b[0;34m\u001b[0m\u001b[0;34m\u001b[0m\u001b[0m\n\u001b[1;32m      3\u001b[0m \u001b[0mshooting\u001b[0m \u001b[0;34m=\u001b[0m \u001b[0;34m\"../../../../../../../Desktop/NU-VIRT-DATA-PT-04-2022-U-LOL/Violence Project Shooting Database.csv\"\u001b[0m\u001b[0;34m\u001b[0m\u001b[0;34m\u001b[0m\u001b[0m\n\u001b[0;32m----> 4\u001b[0;31m \u001b[0mfirearm_df\u001b[0m \u001b[0;34m=\u001b[0m \u001b[0mpd\u001b[0m\u001b[0;34m.\u001b[0m\u001b[0mread_csv\u001b[0m\u001b[0;34m(\u001b[0m\u001b[0mpath\u001b[0m\u001b[0;34m)\u001b[0m\u001b[0;34m\u001b[0m\u001b[0;34m\u001b[0m\u001b[0m\n\u001b[0m\u001b[1;32m      5\u001b[0m \u001b[0mfirearm_df\u001b[0m\u001b[0;34m.\u001b[0m\u001b[0mhead\u001b[0m\u001b[0;34m(\u001b[0m\u001b[0;34m)\u001b[0m\u001b[0;34m\u001b[0m\u001b[0;34m\u001b[0m\u001b[0m\n",
      "\u001b[0;31mNameError\u001b[0m: name 'pd' is not defined"
     ]
    }
   ],
   "source": [
    "firearm = \"../../../../../../../Desktop/NU-VIRT-DATA-PT-04-2022-U-LOL/Violence Project Firearm Data copy.csv\"\n",
    "victim = \"../../../../../../../Desktop/NU-VIRT-DATA-PT-04-2022-U-LOL/Violence Project Victim Data.csv\"\n",
    "shooting = \"../../../../../../../Desktop/NU-VIRT-DATA-PT-04-2022-U-LOL/Violence Project Shooting Database.csv\"\n",
    "firearm_df = pd.read_csv(path)\n",
    "firearm_df.head()"
   ]
  },
  {
   "cell_type": "code",
   "execution_count": null,
   "id": "d2dc6a38-e723-4be6-99ee-59bf28820091",
   "metadata": {},
   "outputs": [],
   "source": []
  }
 ],
 "metadata": {
  "kernelspec": {
   "display_name": "Python 3 (ipykernel)",
   "language": "python",
   "name": "python3"
  },
  "language_info": {
   "codemirror_mode": {
    "name": "ipython",
    "version": 3
   },
   "file_extension": ".py",
   "mimetype": "text/x-python",
   "name": "python",
   "nbconvert_exporter": "python",
   "pygments_lexer": "ipython3",
   "version": "3.9.7"
  }
 },
 "nbformat": 4,
 "nbformat_minor": 5
}
