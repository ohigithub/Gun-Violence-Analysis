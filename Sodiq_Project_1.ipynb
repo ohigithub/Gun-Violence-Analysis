{
 "cells": [
  {
   "cell_type": "code",
   "execution_count": 1,
   "id": "39b034f3",
   "metadata": {},
   "outputs": [
    {
     "name": "stdout",
     "output_type": "stream",
     "text": [
      "Requirement already satisfied: squarify in c:\\users\\pc\\anaconda3\\lib\\site-packages (0.4.3)\n"
     ]
    }
   ],
   "source": [
    "!pip install squarify"
   ]
  },
  {
   "cell_type": "code",
   "execution_count": 2,
   "id": "4cf63568-7d01-47a9-b2c4-70abcb3bda43",
   "metadata": {},
   "outputs": [],
   "source": [
    "# Dependencies\n",
    "import numpy as np\n",
    "import pandas as pd\n",
    "import glob #this is used to concat the csv files\n",
    "import pathlib   #this to join the path of the folder of csvs\n",
    "import matplotlib\n",
    "import matplotlib.pyplot as plt #Display the results on graphs\n",
    "import seaborn as sns\n",
    "import squarify # generate treemap\n",
    "import os "
   ]
  },
  {
   "cell_type": "code",
   "execution_count": 3,
   "id": "17b8ff4d-e074-4724-9f59-45ac1642f66d",
   "metadata": {},
   "outputs": [
    {
     "data": {
      "text/html": [
       "<div>\n",
       "<style scoped>\n",
       "    .dataframe tbody tr th:only-of-type {\n",
       "        vertical-align: middle;\n",
       "    }\n",
       "\n",
       "    .dataframe tbody tr th {\n",
       "        vertical-align: top;\n",
       "    }\n",
       "\n",
       "    .dataframe thead th {\n",
       "        text-align: right;\n",
       "    }\n",
       "</style>\n",
       "<table border=\"1\" class=\"dataframe\">\n",
       "  <thead>\n",
       "    <tr style=\"text-align: right;\">\n",
       "      <th></th>\n",
       "      <th>Date</th>\n",
       "      <th>State</th>\n",
       "      <th>Dead</th>\n",
       "      <th>Injured</th>\n",
       "      <th>Total</th>\n",
       "      <th>Description</th>\n",
       "    </tr>\n",
       "  </thead>\n",
       "  <tbody>\n",
       "    <tr>\n",
       "      <th>0</th>\n",
       "      <td>31/12/2018</td>\n",
       "      <td>Ohio</td>\n",
       "      <td>3</td>\n",
       "      <td>2</td>\n",
       "      <td>5</td>\n",
       "      <td>A dispute began at a rented Airbnb during a Ne...</td>\n",
       "    </tr>\n",
       "    <tr>\n",
       "      <th>1</th>\n",
       "      <td>29/12/2018</td>\n",
       "      <td>Ohio</td>\n",
       "      <td>1</td>\n",
       "      <td>3</td>\n",
       "      <td>4</td>\n",
       "      <td>One person was killed and three people were wo...</td>\n",
       "    </tr>\n",
       "    <tr>\n",
       "      <th>2</th>\n",
       "      <td>28/12/2018</td>\n",
       "      <td>Missouri</td>\n",
       "      <td>4</td>\n",
       "      <td>1</td>\n",
       "      <td>5</td>\n",
       "      <td>A gunman shot and killed his girlfriend, her t...</td>\n",
       "    </tr>\n",
       "    <tr>\n",
       "      <th>3</th>\n",
       "      <td>24/12/2018</td>\n",
       "      <td>Louisiana</td>\n",
       "      <td>2</td>\n",
       "      <td>2</td>\n",
       "      <td>4</td>\n",
       "      <td>Three people were killed and two others were w...</td>\n",
       "    </tr>\n",
       "    <tr>\n",
       "      <th>4</th>\n",
       "      <td>23/12/2018</td>\n",
       "      <td>Missouri</td>\n",
       "      <td>0</td>\n",
       "      <td>7</td>\n",
       "      <td>7</td>\n",
       "      <td>Seven people were wounded during a shooting at...</td>\n",
       "    </tr>\n",
       "  </tbody>\n",
       "</table>\n",
       "</div>"
      ],
      "text/plain": [
       "         Date      State  Dead  Injured  Total  \\\n",
       "0  31/12/2018       Ohio     3        2      5   \n",
       "1  29/12/2018       Ohio     1        3      4   \n",
       "2  28/12/2018   Missouri     4        1      5   \n",
       "3  24/12/2018  Louisiana     2        2      4   \n",
       "4  23/12/2018   Missouri     0        7      7   \n",
       "\n",
       "                                         Description  \n",
       "0  A dispute began at a rented Airbnb during a Ne...  \n",
       "1  One person was killed and three people were wo...  \n",
       "2  A gunman shot and killed his girlfriend, her t...  \n",
       "3  Three people were killed and two others were w...  \n",
       "4  Seven people were wounded during a shooting at...  "
      ]
     },
     "execution_count": 3,
     "metadata": {},
     "output_type": "execute_result"
    }
   ],
   "source": [
    "# setting the path for joining multiple files\n",
    "#concatenate all files that start with Shooting\n",
    "\n",
    "files = os.path.join(pathlib.Path().resolve(),\"Datasets\",\"Mass Shooting Data 18-22\", \"shootings*.csv\")\n",
    "#files = \"C://Users//sodiq//OneDrive//Desktop//project1_Team3-main//Datasets//Mass Shooting Data 18-22//shootings*.csv\"\n",
    "\n",
    "# list of merged files returned\n",
    "files = glob.glob(files)\n",
    "\n",
    "# joining files with concat and read_csv\n",
    "df_shootings = pd.concat(map(pd.read_csv, files), ignore_index=True)\n",
    "df_shootings.head()"
   ]
  },
  {
   "cell_type": "code",
   "execution_count": 4,
   "id": "57bd23f0-fddc-436b-9044-abc33e8b5c4e",
   "metadata": {
    "scrolled": false,
    "tags": []
   },
   "outputs": [
    {
     "data": {
      "text/html": [
       "<div>\n",
       "<style scoped>\n",
       "    .dataframe tbody tr th:only-of-type {\n",
       "        vertical-align: middle;\n",
       "    }\n",
       "\n",
       "    .dataframe tbody tr th {\n",
       "        vertical-align: top;\n",
       "    }\n",
       "\n",
       "    .dataframe thead th {\n",
       "        text-align: right;\n",
       "    }\n",
       "</style>\n",
       "<table border=\"1\" class=\"dataframe\">\n",
       "  <thead>\n",
       "    <tr style=\"text-align: right;\">\n",
       "      <th></th>\n",
       "      <th>Date</th>\n",
       "      <th>State</th>\n",
       "      <th>Dead</th>\n",
       "      <th>Injured</th>\n",
       "      <th>Total</th>\n",
       "    </tr>\n",
       "  </thead>\n",
       "  <tbody>\n",
       "    <tr>\n",
       "      <th>0</th>\n",
       "      <td>31/12/2018</td>\n",
       "      <td>Ohio</td>\n",
       "      <td>3</td>\n",
       "      <td>2</td>\n",
       "      <td>5</td>\n",
       "    </tr>\n",
       "    <tr>\n",
       "      <th>1</th>\n",
       "      <td>29/12/2018</td>\n",
       "      <td>Ohio</td>\n",
       "      <td>1</td>\n",
       "      <td>3</td>\n",
       "      <td>4</td>\n",
       "    </tr>\n",
       "    <tr>\n",
       "      <th>2</th>\n",
       "      <td>28/12/2018</td>\n",
       "      <td>Missouri</td>\n",
       "      <td>4</td>\n",
       "      <td>1</td>\n",
       "      <td>5</td>\n",
       "    </tr>\n",
       "    <tr>\n",
       "      <th>3</th>\n",
       "      <td>24/12/2018</td>\n",
       "      <td>Louisiana</td>\n",
       "      <td>2</td>\n",
       "      <td>2</td>\n",
       "      <td>4</td>\n",
       "    </tr>\n",
       "    <tr>\n",
       "      <th>4</th>\n",
       "      <td>23/12/2018</td>\n",
       "      <td>Missouri</td>\n",
       "      <td>0</td>\n",
       "      <td>7</td>\n",
       "      <td>7</td>\n",
       "    </tr>\n",
       "  </tbody>\n",
       "</table>\n",
       "</div>"
      ],
      "text/plain": [
       "         Date      State  Dead  Injured  Total\n",
       "0  31/12/2018       Ohio     3        2      5\n",
       "1  29/12/2018       Ohio     1        3      4\n",
       "2  28/12/2018   Missouri     4        1      5\n",
       "3  24/12/2018  Louisiana     2        2      4\n",
       "4  23/12/2018   Missouri     0        7      7"
      ]
     },
     "execution_count": 4,
     "metadata": {},
     "output_type": "execute_result"
    }
   ],
   "source": [
    "#Clean the dataframe\n",
    "#Delete the column description [Not needed]\n",
    "df_cleaned = df_shootings\n",
    "df_cleaned.drop('Description',inplace = True, axis = 1) #if column ==> axis = 1, if rows ==> axis = 0\n",
    "df_cleaned.head()"
   ]
  },
  {
   "cell_type": "code",
   "execution_count": 5,
   "id": "780510da-cf5e-459f-b49d-36b933d317df",
   "metadata": {},
   "outputs": [
    {
     "data": {
      "text/html": [
       "<div>\n",
       "<style scoped>\n",
       "    .dataframe tbody tr th:only-of-type {\n",
       "        vertical-align: middle;\n",
       "    }\n",
       "\n",
       "    .dataframe tbody tr th {\n",
       "        vertical-align: top;\n",
       "    }\n",
       "\n",
       "    .dataframe thead th {\n",
       "        text-align: right;\n",
       "    }\n",
       "</style>\n",
       "<table border=\"1\" class=\"dataframe\">\n",
       "  <thead>\n",
       "    <tr style=\"text-align: right;\">\n",
       "      <th></th>\n",
       "      <th>Date</th>\n",
       "      <th>State</th>\n",
       "      <th>Dead</th>\n",
       "      <th>Injured</th>\n",
       "      <th>Total</th>\n",
       "      <th>Year</th>\n",
       "    </tr>\n",
       "  </thead>\n",
       "  <tbody>\n",
       "    <tr>\n",
       "      <th>0</th>\n",
       "      <td>31/12/2018</td>\n",
       "      <td>Ohio</td>\n",
       "      <td>3</td>\n",
       "      <td>2</td>\n",
       "      <td>5</td>\n",
       "      <td>2018</td>\n",
       "    </tr>\n",
       "    <tr>\n",
       "      <th>1</th>\n",
       "      <td>29/12/2018</td>\n",
       "      <td>Ohio</td>\n",
       "      <td>1</td>\n",
       "      <td>3</td>\n",
       "      <td>4</td>\n",
       "      <td>2018</td>\n",
       "    </tr>\n",
       "    <tr>\n",
       "      <th>2</th>\n",
       "      <td>28/12/2018</td>\n",
       "      <td>Missouri</td>\n",
       "      <td>4</td>\n",
       "      <td>1</td>\n",
       "      <td>5</td>\n",
       "      <td>2018</td>\n",
       "    </tr>\n",
       "    <tr>\n",
       "      <th>3</th>\n",
       "      <td>24/12/2018</td>\n",
       "      <td>Louisiana</td>\n",
       "      <td>2</td>\n",
       "      <td>2</td>\n",
       "      <td>4</td>\n",
       "      <td>2018</td>\n",
       "    </tr>\n",
       "    <tr>\n",
       "      <th>4</th>\n",
       "      <td>23/12/2018</td>\n",
       "      <td>Missouri</td>\n",
       "      <td>0</td>\n",
       "      <td>7</td>\n",
       "      <td>7</td>\n",
       "      <td>2018</td>\n",
       "    </tr>\n",
       "  </tbody>\n",
       "</table>\n",
       "</div>"
      ],
      "text/plain": [
       "         Date      State  Dead  Injured  Total  Year\n",
       "0  31/12/2018       Ohio     3        2      5  2018\n",
       "1  29/12/2018       Ohio     1        3      4  2018\n",
       "2  28/12/2018   Missouri     4        1      5  2018\n",
       "3  24/12/2018  Louisiana     2        2      4  2018\n",
       "4  23/12/2018   Missouri     0        7      7  2018"
      ]
     },
     "execution_count": 5,
     "metadata": {},
     "output_type": "execute_result"
    }
   ],
   "source": [
    "#Add a column for Year\n",
    "\n",
    "df_cleaned['Date'] = df_cleaned['Date'].astype(str)\n",
    "df_cleaned['Year'] = (df_cleaned['Date'].str[6:])\n",
    "df_cleaned['Year'] = df_cleaned['Year'].astype(int)\n",
    "\n",
    "#Display the result\n",
    "df_cleaned.head()"
   ]
  },
  {
   "cell_type": "code",
   "execution_count": 6,
   "id": "720451c0",
   "metadata": {},
   "outputs": [
    {
     "data": {
      "text/html": [
       "<div>\n",
       "<style scoped>\n",
       "    .dataframe tbody tr th:only-of-type {\n",
       "        vertical-align: middle;\n",
       "    }\n",
       "\n",
       "    .dataframe tbody tr th {\n",
       "        vertical-align: top;\n",
       "    }\n",
       "\n",
       "    .dataframe thead th {\n",
       "        text-align: right;\n",
       "    }\n",
       "</style>\n",
       "<table border=\"1\" class=\"dataframe\">\n",
       "  <thead>\n",
       "    <tr style=\"text-align: right;\">\n",
       "      <th></th>\n",
       "      <th>Total Dead</th>\n",
       "      <th>Total Injured</th>\n",
       "      <th>Total Incident</th>\n",
       "    </tr>\n",
       "    <tr>\n",
       "      <th>State</th>\n",
       "      <th></th>\n",
       "      <th></th>\n",
       "      <th></th>\n",
       "    </tr>\n",
       "  </thead>\n",
       "  <tbody>\n",
       "    <tr>\n",
       "      <th>Alabama</th>\n",
       "      <td>66</td>\n",
       "      <td>240</td>\n",
       "      <td>306</td>\n",
       "    </tr>\n",
       "    <tr>\n",
       "      <th>Alaska</th>\n",
       "      <td>6</td>\n",
       "      <td>12</td>\n",
       "      <td>18</td>\n",
       "    </tr>\n",
       "    <tr>\n",
       "      <th>Arizona</th>\n",
       "      <td>37</td>\n",
       "      <td>99</td>\n",
       "      <td>135</td>\n",
       "    </tr>\n",
       "    <tr>\n",
       "      <th>Arkansas</th>\n",
       "      <td>30</td>\n",
       "      <td>133</td>\n",
       "      <td>163</td>\n",
       "    </tr>\n",
       "    <tr>\n",
       "      <th>California</th>\n",
       "      <td>232</td>\n",
       "      <td>694</td>\n",
       "      <td>926</td>\n",
       "    </tr>\n",
       "  </tbody>\n",
       "</table>\n",
       "</div>"
      ],
      "text/plain": [
       "            Total Dead  Total Injured  Total Incident\n",
       "State                                                \n",
       "Alabama             66            240             306\n",
       "Alaska               6             12              18\n",
       "Arizona             37             99             135\n",
       "Arkansas            30            133             163\n",
       "California         232            694             926"
      ]
     },
     "execution_count": 6,
     "metadata": {},
     "output_type": "execute_result"
    }
   ],
   "source": [
    "#Group and aggregarte the statistics by state\n",
    "#Rename columns by a significant names\n",
    "df_agg = ( df_cleaned.groupby(by=['State'])\n",
    "          .agg({'Dead':'sum','Injured' :'sum', 'Total':'sum'})\n",
    "          .rename(columns={'Dead':'Total Dead','Injured':'Total Injured', 'Total':'Total Incident'})\n",
    "          )\n",
    "\n",
    "#Display the DF\n",
    "df_agg.head()"
   ]
  },
  {
   "cell_type": "code",
   "execution_count": 7,
   "id": "456cab8c",
   "metadata": {},
   "outputs": [
    {
     "data": {
      "text/html": [
       "<div>\n",
       "<style scoped>\n",
       "    .dataframe tbody tr th:only-of-type {\n",
       "        vertical-align: middle;\n",
       "    }\n",
       "\n",
       "    .dataframe tbody tr th {\n",
       "        vertical-align: top;\n",
       "    }\n",
       "\n",
       "    .dataframe thead th {\n",
       "        text-align: right;\n",
       "    }\n",
       "</style>\n",
       "<table border=\"1\" class=\"dataframe\">\n",
       "  <thead>\n",
       "    <tr style=\"text-align: right;\">\n",
       "      <th></th>\n",
       "      <th>Total Dead</th>\n",
       "      <th>Total Injured</th>\n",
       "      <th>Total Incident</th>\n",
       "    </tr>\n",
       "    <tr>\n",
       "      <th>State</th>\n",
       "      <th></th>\n",
       "      <th></th>\n",
       "      <th></th>\n",
       "    </tr>\n",
       "  </thead>\n",
       "  <tbody>\n",
       "    <tr>\n",
       "      <th>Wyoming</th>\n",
       "      <td>2</td>\n",
       "      <td>2</td>\n",
       "      <td>4</td>\n",
       "    </tr>\n",
       "    <tr>\n",
       "      <th>New Hampshire</th>\n",
       "      <td>0</td>\n",
       "      <td>4</td>\n",
       "      <td>4</td>\n",
       "    </tr>\n",
       "    <tr>\n",
       "      <th>Maine</th>\n",
       "      <td>3</td>\n",
       "      <td>1</td>\n",
       "      <td>4</td>\n",
       "    </tr>\n",
       "    <tr>\n",
       "      <th>Washington D.C.</th>\n",
       "      <td>1</td>\n",
       "      <td>4</td>\n",
       "      <td>5</td>\n",
       "    </tr>\n",
       "    <tr>\n",
       "      <th>Hawaii</th>\n",
       "      <td>4</td>\n",
       "      <td>4</td>\n",
       "      <td>8</td>\n",
       "    </tr>\n",
       "  </tbody>\n",
       "</table>\n",
       "</div>"
      ],
      "text/plain": [
       "                 Total Dead  Total Injured  Total Incident\n",
       "State                                                     \n",
       "Wyoming                   2              2               4\n",
       "New Hampshire             0              4               4\n",
       "Maine                     3              1               4\n",
       "Washington D.C.           1              4               5\n",
       "Hawaii                    4              4               8"
      ]
     },
     "execution_count": 7,
     "metadata": {},
     "output_type": "execute_result"
    }
   ],
   "source": [
    "#Sort the data by the total incidents\n",
    "df_agg.sort_values(by='Total Incident', ascending=True,inplace = True)\n",
    "df_agg.head()"
   ]
  },
  {
   "cell_type": "code",
   "execution_count": 8,
   "id": "322f74be",
   "metadata": {},
   "outputs": [],
   "source": [
    "#reset the index of the df\n",
    "df_agg = df_agg.reset_index()\n",
    "\n",
    "#get the top 10 worse \n",
    "df_agg_top_10 = df_agg.tail(10)"
   ]
  },
  {
   "cell_type": "code",
   "execution_count": 9,
   "id": "b3f9784e",
   "metadata": {},
   "outputs": [
    {
     "data": {
      "text/html": [
       "<div>\n",
       "<style scoped>\n",
       "    .dataframe tbody tr th:only-of-type {\n",
       "        vertical-align: middle;\n",
       "    }\n",
       "\n",
       "    .dataframe tbody tr th {\n",
       "        vertical-align: top;\n",
       "    }\n",
       "\n",
       "    .dataframe thead th {\n",
       "        text-align: right;\n",
       "    }\n",
       "</style>\n",
       "<table border=\"1\" class=\"dataframe\">\n",
       "  <thead>\n",
       "    <tr style=\"text-align: right;\">\n",
       "      <th></th>\n",
       "      <th>State</th>\n",
       "      <th>Total Dead</th>\n",
       "      <th>Total Injured</th>\n",
       "      <th>Total Incident</th>\n",
       "    </tr>\n",
       "  </thead>\n",
       "  <tbody>\n",
       "    <tr>\n",
       "      <th>43</th>\n",
       "      <td>Missouri</td>\n",
       "      <td>72</td>\n",
       "      <td>287</td>\n",
       "      <td>359</td>\n",
       "    </tr>\n",
       "    <tr>\n",
       "      <th>44</th>\n",
       "      <td>Georgia</td>\n",
       "      <td>75</td>\n",
       "      <td>300</td>\n",
       "      <td>375</td>\n",
       "    </tr>\n",
       "    <tr>\n",
       "      <th>45</th>\n",
       "      <td>Ohio</td>\n",
       "      <td>87</td>\n",
       "      <td>366</td>\n",
       "      <td>453</td>\n",
       "    </tr>\n",
       "    <tr>\n",
       "      <th>46</th>\n",
       "      <td>New York</td>\n",
       "      <td>50</td>\n",
       "      <td>451</td>\n",
       "      <td>501</td>\n",
       "    </tr>\n",
       "    <tr>\n",
       "      <th>47</th>\n",
       "      <td>Pennsylvania</td>\n",
       "      <td>82</td>\n",
       "      <td>431</td>\n",
       "      <td>513</td>\n",
       "    </tr>\n",
       "    <tr>\n",
       "      <th>48</th>\n",
       "      <td>Louisiana</td>\n",
       "      <td>85</td>\n",
       "      <td>433</td>\n",
       "      <td>518</td>\n",
       "    </tr>\n",
       "    <tr>\n",
       "      <th>49</th>\n",
       "      <td>Florida</td>\n",
       "      <td>143</td>\n",
       "      <td>492</td>\n",
       "      <td>635</td>\n",
       "    </tr>\n",
       "    <tr>\n",
       "      <th>50</th>\n",
       "      <td>Texas</td>\n",
       "      <td>236</td>\n",
       "      <td>673</td>\n",
       "      <td>909</td>\n",
       "    </tr>\n",
       "    <tr>\n",
       "      <th>51</th>\n",
       "      <td>California</td>\n",
       "      <td>232</td>\n",
       "      <td>694</td>\n",
       "      <td>926</td>\n",
       "    </tr>\n",
       "    <tr>\n",
       "      <th>52</th>\n",
       "      <td>Illinois</td>\n",
       "      <td>164</td>\n",
       "      <td>1043</td>\n",
       "      <td>1207</td>\n",
       "    </tr>\n",
       "  </tbody>\n",
       "</table>\n",
       "</div>"
      ],
      "text/plain": [
       "           State  Total Dead  Total Injured  Total Incident\n",
       "43      Missouri          72            287             359\n",
       "44       Georgia          75            300             375\n",
       "45          Ohio          87            366             453\n",
       "46      New York          50            451             501\n",
       "47  Pennsylvania          82            431             513\n",
       "48     Louisiana          85            433             518\n",
       "49       Florida         143            492             635\n",
       "50         Texas         236            673             909\n",
       "51    California         232            694             926\n",
       "52      Illinois         164           1043            1207"
      ]
     },
     "execution_count": 9,
     "metadata": {},
     "output_type": "execute_result"
    }
   ],
   "source": [
    "#Get the top 10 worse  States with higher (Deads, Injured and Incident)\n",
    "df_states_top_10 = df_agg.tail(10)\n",
    "df_states_top_10"
   ]
  },
  {
   "cell_type": "code",
   "execution_count": 10,
   "id": "3606fda1",
   "metadata": {},
   "outputs": [
    {
     "data": {
      "image/png": "[encoded data removed]",
      "text/plain": [
       "<Figure size 720x576 with 1 Axes>"
      ]
     },
     "metadata": {
      "needs_background": "light"
     },
     "output_type": "display_data"
    }
   ],
   "source": [
    "# Visualize the data\n",
    "plt.figure(figsize = (10, 8))\n",
    "\n",
    "# Set the axis values\n",
    "x = df_states_top_10['State']\n",
    "y = df_states_top_10['Total Incident']\n",
    "\n",
    "#set the graph parameters\n",
    "plt.title('Total Incident by State')\n",
    "plt.ylabel('States')\n",
    "plt.xlabel('Sum of Incident')\n",
    "plt.barh(x,y)\n",
    "plt.show()"
   ]
  },
  {
   "cell_type": "code",
   "execution_count": 11,
   "id": "efbce926",
   "metadata": {},
   "outputs": [],
   "source": [
    "plt.close()"
   ]
  },
  {
   "cell_type": "code",
   "execution_count": 12,
   "id": "e48dd971",
   "metadata": {},
   "outputs": [
    {
     "name": "stdout",
     "output_type": "stream",
     "text": [
      "Stay safe, Stay away from Illinois and California \n"
     ]
    }
   ],
   "source": [
    "# ATTENTION\n",
    "print(\"Stay safe, Stay away from Illinois and California \")"
   ]
  },
  {
   "cell_type": "markdown",
   "id": "e60b5a3e",
   "metadata": {},
   "source": [
    "### Adding color-map"
   ]
  },
  {
   "cell_type": "code",
   "execution_count": 13,
   "id": "307ba563",
   "metadata": {},
   "outputs": [],
   "source": [
    "cmap = matplotlib.cm.Reds   #select cmap\n",
    "\n",
    "#Normalize based on Volume\n",
    "norm = matplotlib.colors.Normalize(vmin = df_states_top_10['Total Incident'].min(), vmax = df_states_top_10['Total Incident'].max())\n",
    "\n",
    "#Define colors array\n",
    "colors = [cmap(norm(i)) for i in df_states_top_10['Total Incident']]"
   ]
  },
  {
   "cell_type": "code",
   "execution_count": 14,
   "id": "0408b535",
   "metadata": {},
   "outputs": [
    {
     "data": {
      "text/plain": [
       "<AxesSubplot:title={'center':'Total of Incidents by State'}>"
      ]
     },
     "execution_count": 14,
     "metadata": {},
     "output_type": "execute_result"
    },
    {
     "data": {
      "image/png": "[encoded data removed]",
      "text/plain": [
       "<Figure size 720x720 with 1 Axes>"
      ]
     },
     "metadata": {
      "needs_background": "light"
     },
     "output_type": "display_data"
    }
   ],
   "source": [
    "# Configure the figure size for a good vision\n",
    "plt.figure(figsize = (10, 10))\n",
    "\n",
    "# Set the title of the treemap\n",
    "title = \"Total of Incidents by State\"\n",
    "plt.title(title,size = 20)\n",
    "\n",
    "# Draw the treemap\n",
    "squarify.plot(df_states_top_10['Total Incident'], label = df_states_top_10.State, pad=True, text_kwargs = {'color':'black', 'size':13}, color = colors, alpha=0.8)"
   ]
  },
  {
   "cell_type": "code",
   "execution_count": null,
   "id": "797ea8cf",
   "metadata": {},
   "outputs": [],
   "source": []
  }
 ],
 "metadata": {
  "kernelspec": {
   "display_name": "Python 3 (ipykernel)",
   "language": "python",
   "name": "python3"
  },
  "language_info": {
   "codemirror_mode": {
    "name": "ipython",
    "version": 3
   },
   "file_extension": ".py",
   "mimetype": "text/x-python",
   "name": "python",
   "nbconvert_exporter": "python",
   "pygments_lexer": "ipython3",
   "version": "3.9.7"
  }
 },
 "nbformat": 4,
 "nbformat_minor": 5
}
